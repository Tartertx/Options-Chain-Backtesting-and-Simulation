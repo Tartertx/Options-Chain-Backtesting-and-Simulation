{
 "cells": [
  {
   "cell_type": "code",
   "execution_count": 28,
   "id": "2c3ae861",
   "metadata": {},
   "outputs": [
    {
     "data": {
      "text/latex": [
       "$\\displaystyle \\operatorname{GroebnerBasis}\\left(\\left( t + w x y, \\  - t x + w y^{2} - w y z, \\  x^{2} + y - z\\right), \\left( x, \\  y, \\  z, \\  t, \\  w\\right)\\right)$"
      ],
      "text/plain": [
       "GroebnerBasis([w*x*y + t, w*y**2 - w*y*z - t*x, x**2 + y - z], x, y, z, t, w, domain='ZZ', order='grevlex')"
      ]
     },
     "execution_count": 28,
     "metadata": {},
     "output_type": "execute_result"
    }
   ],
   "source": [
    "from sympy import *\n",
    "\n",
    "x,y,z,w,t = symbols('x, y, z, w, t')\n",
    "F = [x**2+y-z,x*y*w+t]\n",
    "sympy.groebner(F, order = 'grevlex')"
   ]
  }
 ],
 "metadata": {
  "kernelspec": {
   "display_name": "Python 3",
   "language": "python",
   "name": "python3"
  },
  "language_info": {
   "codemirror_mode": {
    "name": "ipython",
    "version": 3
   },
   "file_extension": ".py",
   "mimetype": "text/x-python",
   "name": "python",
   "nbconvert_exporter": "python",
   "pygments_lexer": "ipython3",
   "version": "3.12.10"
  }
 },
 "nbformat": 4,
 "nbformat_minor": 5
}
