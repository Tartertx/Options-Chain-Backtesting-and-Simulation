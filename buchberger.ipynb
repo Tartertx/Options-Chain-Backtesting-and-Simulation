{
 "cells": [
  {
   "cell_type": "code",
   "execution_count": 3,
   "id": "2c3ae861",
   "metadata": {},
   "outputs": [
    {
     "data": {
      "text/latex": [
       "$\\displaystyle \\operatorname{GroebnerBasis}\\left(\\left( x + z, \\  y\\right), \\left( x, \\  y, \\  z\\right)\\right)$"
      ],
      "text/plain": [
       "GroebnerBasis([x + z, y], x, y, z, domain='ZZ', order='grevlex')"
      ]
     },
     "execution_count": 3,
     "metadata": {},
     "output_type": "execute_result"
    }
   ],
   "source": [
    "import sympy\n",
    "from sympy import *\n",
    "\n",
    "x,y,z,w,t = symbols('x, y, z, w, t')\n",
    "F = [y,x+z]\n",
    "sympy.groebner(F, order = 'grevlex')"
   ]
  },
  {
   "cell_type": "code",
   "execution_count": 4,
   "id": "b39b4381",
   "metadata": {},
   "outputs": [
    {
     "data": {
      "text/latex": [
       "$\\displaystyle \\operatorname{GroebnerBasis}\\left(\\left( - 1.0 c_{1} + 1.0 p_{1} + 2.3, \\  - 1.0 c_{2} + 1.0 p_{2} - 2.2\\right), \\left( p_{1}, \\  p_{2}, \\  c_{1}, \\  c_{2}\\right)\\right)$"
      ],
      "text/plain": [
       "GroebnerBasis([-1.0*c1 + 1.0*p1 + 2.3, -1.0*c2 + 1.0*p2 - 2.2], p1, p2, c1, c2, domain='RR', order='grevlex')"
      ]
     },
     "execution_count": 4,
     "metadata": {},
     "output_type": "execute_result"
    }
   ],
   "source": [
    "from sympy import *\n",
    "st = 100\n",
    "k1 = .3\n",
    "k2 = -.2\n",
    "e1 = 98\n",
    "e2 = 102\n",
    "\n",
    "c1,p1,c2,p2 = symbols('c1, p1, c2, p2')\n",
    "F = [c1-p1-st+e1-k1, c2-p2-st+e2-k2]\n",
    "sympy.groebner(F, order = 'grevlex')"
   ]
  }
 ],
 "metadata": {
  "kernelspec": {
   "display_name": "Python 3",
   "language": "python",
   "name": "python3"
  },
  "language_info": {
   "codemirror_mode": {
    "name": "ipython",
    "version": 3
   },
   "file_extension": ".py",
   "mimetype": "text/x-python",
   "name": "python",
   "nbconvert_exporter": "python",
   "pygments_lexer": "ipython3",
   "version": "3.12.10"
  }
 },
 "nbformat": 4,
 "nbformat_minor": 5
}
