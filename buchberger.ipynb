{
 "cells": [
  {
   "cell_type": "code",
   "execution_count": 3,
   "id": "2c3ae861",
   "metadata": {},
   "outputs": [
    {
     "data": {
      "text/latex": [
       "$\\displaystyle \\operatorname{GroebnerBasis}\\left(\\left( x + z, \\  y\\right), \\left( x, \\  y, \\  z\\right)\\right)$"
      ],
      "text/plain": [
       "GroebnerBasis([x + z, y], x, y, z, domain='ZZ', order='grevlex')"
      ]
     },
     "execution_count": 3,
     "metadata": {},
     "output_type": "execute_result"
    }
   ],
   "source": [
    "import sympy\n",
    "from sympy import *\n",
    "\n",
    "x,y,z,w,t = symbols('x, y, z, w, t')\n",
    "F = [y,x+z]\n",
    "sympy.groebner(F, order = 'grevlex')"
   ]
  },
  {
   "cell_type": "code",
   "execution_count": 4,
   "id": "b39b4381",
   "metadata": {},
   "outputs": [
    {
     "data": {
      "text/latex": [
       "$\\displaystyle \\operatorname{GroebnerBasis}\\left(\\left( t + x + z, \\  y\\right), \\left( x, \\  y, \\  z, \\  t\\right)\\right)$"
      ],
      "text/plain": [
       "GroebnerBasis([t + x + z, y], x, y, z, t, domain='ZZ', order='grevlex')"
      ]
     },
     "execution_count": 4,
     "metadata": {},
     "output_type": "execute_result"
    }
   ],
   "source": [
    "from sympy import *\n",
    "\n",
    "x,y,z,w,t = symbols('x, y, z, w, t')\n",
    "F = [y,x+z+t]\n",
    "sympy.groebner(F, order = 'grevlex')"
   ]
  }
 ],
 "metadata": {
  "kernelspec": {
   "display_name": "Python 3",
   "language": "python",
   "name": "python3"
  },
  "language_info": {
   "codemirror_mode": {
    "name": "ipython",
    "version": 3
   },
   "file_extension": ".py",
   "mimetype": "text/x-python",
   "name": "python",
   "nbconvert_exporter": "python",
   "pygments_lexer": "ipython3",
   "version": "3.12.10"
  }
 },
 "nbformat": 4,
 "nbformat_minor": 5
}
